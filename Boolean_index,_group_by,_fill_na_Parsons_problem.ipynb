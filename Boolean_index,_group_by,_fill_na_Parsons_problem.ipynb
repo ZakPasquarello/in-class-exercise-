{
  "nbformat": 4,
  "nbformat_minor": 0,
  "metadata": {
    "colab": {
      "provenance": []
    },
    "kernelspec": {
      "name": "python3",
      "display_name": "Python 3"
    },
    "language_info": {
      "name": "python"
    }
  },
  "cells": [
    {
      "cell_type": "code",
      "execution_count": null,
      "metadata": {
        "id": "RLU3qkj24COk"
      },
      "outputs": [],
      "source": [
        "'''\n",
        "This code builds a dataset of engagement with two\n",
        "kinds of ads: those that focus on price and those\n",
        "that focus on nutrition. It then calulates the \n",
        "mean engagement score among those who saw the \n",
        "nutrition ad. It ignores data where no\n",
        "engagement score is available.\n",
        "'''\n",
        "\n",
        "import pandas as pd\n",
        "df = pd.DataFrame(data)\n",
        "\n",
        "data = [{\"ad\": \"price\", \"engagement\": 8, \"age\": 29}]\n",
        "\n",
        "data.append({\"ad\": \"price\", \"engagement\": 18, \"age\": 70})\n",
        "data.append({\"ad\": \"nutrition\", \"engagement\": None, \"age\": 54})\n",
        "data.append({\"ad\": \"nutrition\", \"engagement\": 4, \"age\": 17})\n",
        "data.append({\"ad\": \"price\", \"engagement\": 20, \"age\": 22})\n",
        "\n",
        "df = df[df[\"ad\"] == \"nutrition\"]\n",
        "df = df.dropna()\n",
        "\n",
        "df[\"engagement\"].mean()\n"
      ]
    }
  ]
}