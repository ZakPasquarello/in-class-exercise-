{
  "nbformat": 4,
  "nbformat_minor": 0,
  "metadata": {
    "colab": {
      "provenance": []
    },
    "kernelspec": {
      "name": "python3",
      "display_name": "Python 3"
    },
    "language_info": {
      "name": "python"
    }
  },
  "cells": [
    {
      "cell_type": "code",
      "execution_count": 2,
      "metadata": {
        "id": "RLU3qkj24COk",
        "colab": {
          "base_uri": "https://localhost:8080/"
        },
        "outputId": "6706472f-ce02-4939-9eca-df1f7dcdd1bc"
      },
      "outputs": [
        {
          "output_type": "execute_result",
          "data": {
            "text/plain": [
              "4.0"
            ]
          },
          "metadata": {},
          "execution_count": 2
        }
      ],
      "source": [
        "'''\n",
        "This code builds a dataset of engagement with two\n",
        "kinds of ads: those that focus on price and those\n",
        "that focus on nutrition. It then calulates the \n",
        "mean engagement score among those who saw the \n",
        "nutrition ad. It ignores data where no\n",
        "engagement score is available.\n",
        "'''\n",
        "\n",
        "import pandas as pd\n",
        "data = [{\"ad\": \"price\", \"engagement\": 8, \"age\": 29}]\n",
        "\n",
        "data.append({\"ad\": \"price\", \"engagement\": 18, \"age\": 70})\n",
        "data.append({\"ad\": \"nutrition\", \"engagement\": None, \"age\": 54})\n",
        "data.append({\"ad\": \"nutrition\", \"engagement\": 4, \"age\": 17})\n",
        "data.append({\"ad\": \"price\", \"engagement\": 20, \"age\": 22})\n",
        "\n",
        "df = pd.DataFrame(data)\n",
        "\n",
        "df = df[df[\"ad\"] == \"nutrition\"]\n",
        "df = df.dropna()\n",
        "\n",
        "df[\"engagement\"].mean()\n"
      ]
    }
  ]
}